{
 "cells": [
  {
   "cell_type": "code",
   "execution_count": 70,
   "metadata": {},
   "outputs": [],
   "source": [
    "import numpy as np\n",
    "import pandas as pd\n",
    "import string\n",
    "import matplotlib.pyplot as plt\n",
    "import seaborn as sns\n",
    "sns.set(style='darkgrid', context = 'notebook')\n",
    "%matplotlib inline\n"
   ]
  },
  {
   "cell_type": "markdown",
   "metadata": {},
   "source": [
    "## EDA"
   ]
  },
  {
   "cell_type": "markdown",
   "metadata": {},
   "source": [
    "Some statistics (table or histogram) of the input data, such as average number of tokens of abstract/full body, average number of sentence of abstract/full body. I think chart is better.\n",
    "Vocabulary size of abstract vs full-content"
   ]
  },
  {
   "cell_type": "code",
   "execution_count": 5,
   "metadata": {},
   "outputs": [],
   "source": [
    "def sent_tokenize_rm_punct (blob):\n",
    "    bexp = ''    \n",
    "    blob.replace('\\n','')\n",
    "    #blob.replace('</p>','  ')\n",
    "    #print(type(blob))\n",
    "\n",
    "    for i, char in (enumerate(blob)):\n",
    "        #print(i,char)\n",
    "        next_cap = False\n",
    "        prev_lower = False\n",
    "        next_space = False\n",
    "        \n",
    "        if char in string.punctuation :\n",
    "            #print(\"found punctuation:\", i, char, blob[i+1])\n",
    "           \n",
    "            if char in '.?!' :\n",
    "                if i+1 >= len(blob):\n",
    "                    next_cap = False\n",
    "                else:\n",
    "                    next_cap = blob[i+1].isupper()\n",
    "                    next_space = blob[i+1].isspace()                    \n",
    "\n",
    "                if i-1 <0:\n",
    "                    prev_lower = False\n",
    "                else:\n",
    "                    prev_lower = blob[i-1].islower()\n",
    "\n",
    "                if (next_cap and prev_lower) or next_space: \n",
    "                    # if the char before \".\" is lower case, but the one immediately follow the \".\" is Uppercase, then this is a paragraph end (caused by removing <p></p> from the xml file)\n",
    "                    bexp = bexp + ' </s> '\n",
    "                else:\n",
    "                    #if this is not end of paragraph, then \n",
    "                    #bexp = bexp + char\n",
    "                    pass\n",
    "            else :\n",
    "                bexp = bexp + ' '\n",
    "        elif char == '\\n':\n",
    "            i += 1                    \n",
    "        else :\n",
    "            if char.isnumeric() : \n",
    "                bexp = bexp + 'N'\n",
    "            else :\n",
    "                bexp = bexp + char.lower()\n",
    "    \n",
    "    #return(sent_tokenize(bexp))\n",
    "    return(bexp)\n"
   ]
  },
  {
   "cell_type": "code",
   "execution_count": 6,
   "metadata": {},
   "outputs": [],
   "source": [
    "nyt_data = pd.read_csv('abstract_nyt_structured_data_1000.csv', \n",
    "                       delimiter=',', index_col=0, header=None, quotechar='\"', quoting=1, \n",
    "                       skipinitialspace=True, engine='c')\n",
    "#We will use LEAD_PARAGRAPH as source for now\n",
    "#And ABSTRACT as target. \n",
    "# Remove punctuation, change digits to NNN, and to lower case.     \n",
    "source_text=nyt_data[3].apply(sent_tokenize_rm_punct)\n",
    "target_text=nyt_data[2].apply(sent_tokenize_rm_punct)\n",
    "body_text = nyt_data[4].apply(sent_tokenize_rm_punct)"
   ]
  },
  {
   "cell_type": "code",
   "execution_count": 56,
   "metadata": {},
   "outputs": [
    {
     "data": {
      "text/plain": [
       "' gov james e mcgreevey  whose insistence on staying in office until nov NN set off political  legal and public relations challenges  needs only to remain in office until midnight sept N to outlast state deadline that would automatically force special election to choose his successor  his announcement aug NN that he was stepping down because of extramarital affair with unidentified man led to coup attempt from within his own party  which he has managed to fend off  richard j codey  senate president and fellow democrat  will complete final NN months of mcgreevey s term under provisions of new jersey s constitution  photos  m   '"
      ]
     },
     "execution_count": 56,
     "metadata": {},
     "output_type": "execute_result"
    }
   ],
   "source": [
    "target_text[1]"
   ]
  },
  {
   "cell_type": "code",
   "execution_count": 29,
   "metadata": {},
   "outputs": [],
   "source": [
    "# helper functions\n",
    "\n",
    "def count_sentence(text):\n",
    "    count = 0\n",
    "    for t in text.split(\" \"):\n",
    "        if t == '</s>':\n",
    "            count += 1\n",
    "    return count\n",
    "\n",
    "# vocabulary\n",
    "def vocab_size(text):\n",
    "    token = []\n",
    "    for s in text:\n",
    "        token.extend(s.split(\" \"))\n",
    "    vocab = set(token)\n",
    "    return len(vocab)"
   ]
  },
  {
   "cell_type": "code",
   "execution_count": 67,
   "metadata": {},
   "outputs": [],
   "source": [
    "# number of tokens\n",
    "source_token_length = source_text.apply(lambda x: len(x.split(\" \")))\n",
    "target_token_length = target_text.apply(lambda x: len(x.split(\" \")))\n",
    "body_token_length = body_text.apply(lambda x: len(x.split(\" \")))"
   ]
  },
  {
   "cell_type": "code",
   "execution_count": 68,
   "metadata": {},
   "outputs": [],
   "source": [
    "# number of sentences\n",
    "source_sent_length = source_text.apply(lambda x: count_sentence(x))\n",
    "# target_sent_length = target_text.apply(lambda x: count_sentence(x))\n",
    "body_sent_length = body_text.apply(lambda x: count_sentence(x))"
   ]
  },
  {
   "cell_type": "code",
   "execution_count": 49,
   "metadata": {},
   "outputs": [
    {
     "name": "stdout",
     "output_type": "stream",
     "text": [
      "source vocab size:  15594\n",
      "target vocab size:  7743\n",
      "body vocab size:  36017\n"
     ]
    }
   ],
   "source": [
    "# vocabulary size\n",
    "source_vocab_size = vocab_size(source_text)\n",
    "target_vocab_size = vocab_size(target_text)\n",
    "body_vocab_size = vocab_size(body_text)\n",
    "print(\"source vocab size: \", source_vocab_size)\n",
    "print(\"target vocab size: \", target_vocab_size)\n",
    "print(\"body vocab size: \", body_vocab_size)"
   ]
  },
  {
   "cell_type": "code",
   "execution_count": 65,
   "metadata": {},
   "outputs": [
    {
     "name": "stdout",
     "output_type": "stream",
     "text": [
      "Source Tokens count    1000.000000\n",
      "mean      144.919000\n",
      "std       281.625705\n",
      "min        12.000000\n",
      "25%        77.000000\n",
      "50%       105.000000\n",
      "75%       137.250000\n",
      "max      5257.000000\n",
      "Name: 3, dtype: float64\n",
      "\n",
      "Target Tokens count    1000.000000\n",
      "mean       43.481000\n",
      "std        28.812112\n",
      "min         5.000000\n",
      "25%        23.000000\n",
      "50%        35.000000\n",
      "75%        55.000000\n",
      "max       263.000000\n",
      "Name: 2, dtype: float64\n",
      "\n",
      "Body Tokens count    1000.000000\n",
      "mean      868.055000\n",
      "std       770.531447\n",
      "min         9.000000\n",
      "25%       283.750000\n",
      "50%       805.500000\n",
      "75%      1164.250000\n",
      "max      9128.000000\n",
      "Name: 4, dtype: float64\n"
     ]
    }
   ],
   "source": [
    "print(\"Source Tokens\", source_token_length.describe())\n",
    "print(\"\\nTarget Tokens\", target_token_length.describe())\n",
    "print(\"\\nBody Tokens\", body_token_length.describe())"
   ]
  },
  {
   "cell_type": "code",
   "execution_count": 66,
   "metadata": {},
   "outputs": [
    {
     "name": "stdout",
     "output_type": "stream",
     "text": [
      "Source Sentences count    1000.000000\n",
      "mean        6.091000\n",
      "std        16.362287\n",
      "min         0.000000\n",
      "25%         3.000000\n",
      "50%         4.000000\n",
      "75%         6.000000\n",
      "max       373.000000\n",
      "Name: 3, dtype: float64\n",
      "\n",
      "Body Sentences count    1000.000000\n",
      "mean       35.183000\n",
      "std        34.107225\n",
      "min         0.000000\n",
      "25%        12.000000\n",
      "50%        30.000000\n",
      "75%        48.000000\n",
      "max       372.000000\n",
      "Name: 4, dtype: float64\n"
     ]
    }
   ],
   "source": [
    "print(\"Source Sentences\", source_sent_length.describe())\n",
    "print(\"\\nBody Sentences\", body_sent_length.describe())"
   ]
  },
  {
   "cell_type": "code",
   "execution_count": 76,
   "metadata": {},
   "outputs": [
    {
     "data": {
      "text/plain": [
       "Text(0.5,1,'Distribution of Target Length (Tokens)')"
      ]
     },
     "execution_count": 76,
     "metadata": {},
     "output_type": "execute_result"
    },
    {
     "data": {
      "image/png": "[encoded data removed]",
      "text/plain": [
       "<Figure size 864x432 with 2 Axes>"
      ]
     },
     "metadata": {},
     "output_type": "display_data"
    }
   ],
   "source": [
    "# histgram of token length\n",
    "plt.subplots(figsize=(12, 6))\n",
    "plt.subplot(1,2,1)\n",
    "plt.hist(source_token_length)\n",
    "# plt.hist(np.log(source_token_length))\n",
    "plt.title('Distribution of Source Length (Tokens)')\n",
    "plt.xlim([0, 2000])\n",
    "plt.subplot(1,2,2)\n",
    "plt.hist(target_token_length)\n",
    "plt.title('Distribution of Target Length (Tokens)')"
   ]
  },
  {
   "cell_type": "code",
   "execution_count": 85,
   "metadata": {},
   "outputs": [
    {
     "data": {
      "text/plain": [
       "Text(0.5,1,'Distribution of Target Length (Tokens)')"
      ]
     },
     "execution_count": 85,
     "metadata": {},
     "output_type": "execute_result"
    },
    {
     "data": {
      "image/png": "[encoded data removed]",
      "text/plain": [
       "<Figure size 864x432 with 2 Axes>"
      ]
     },
     "metadata": {},
     "output_type": "display_data"
    }
   ],
   "source": [
    "# histgram of token length\n",
    "plt.subplots(figsize=(12, 6))\n",
    "plt.subplot(1,2,1)\n",
    "plt.hist(source_token_length)\n",
    "# plt.hist(np.log(source_token_length))\n",
    "plt.title('Distribution of Source Length (Tokens)')\n",
    "plt.xlim([0, 2000])\n",
    "plt.subplot(1,2,2)\n",
    "plt.hist(target_token_length)\n",
    "plt.title('Distribution of Target Length (Tokens)')"
   ]
  },
  {
   "cell_type": "code",
   "execution_count": 84,
   "metadata": {},
   "outputs": [
    {
     "name": "stdout",
     "output_type": "stream",
     "text": [
      "[ 99 124  73 145 238 104 129  87  53 121  63  52 162  62  26  78 120 122\n",
      "  82 112]\n",
      "[ 60 117  24  17  17  50  28  22  28  55  28  76  20  66  20  41  64  91\n",
      "  55  11]\n"
     ]
    }
   ],
   "source": [
    "print(source_token_length.values[:20])\n",
    "print(target_token_length.values[:20])"
   ]
  },
  {
   "cell_type": "code",
   "execution_count": 87,
   "metadata": {},
   "outputs": [
    {
     "data": {
      "text/plain": [
       "Text(0.5,1,'Distribution of Body Length (Sentences)')"
      ]
     },
     "execution_count": 87,
     "metadata": {},
     "output_type": "execute_result"
    },
    {
     "data": {
      "image/png": "[encoded data removed]",
      "text/plain": [
       "<Figure size 864x432 with 2 Axes>"
      ]
     },
     "metadata": {},
     "output_type": "display_data"
    }
   ],
   "source": [
    "# histgram of sentence length\n",
    "plt.subplots(figsize=(12, 6))\n",
    "plt.subplot(1,2,1)\n",
    "plt.hist(source_sent_length)\n",
    "plt.title('Distribution of Source Length (Sentences)')\n",
    "plt.xlim([0, 100])\n",
    "plt.subplot(1,2,2)\n",
    "plt.hist(body_sent_length)\n",
    "plt.title('Distribution of Body Length (Sentences)')"
   ]
  },
  {
   "cell_type": "code",
   "execution_count": null,
   "metadata": {},
   "outputs": [],
   "source": []
  }
 ],
 "metadata": {
  "kernelspec": {
   "display_name": "Python 3",
   "language": "python",
   "name": "python3"
  },
  "language_info": {
   "codemirror_mode": {
    "name": "ipython",
    "version": 3
   },
   "file_extension": ".py",
   "mimetype": "text/x-python",
   "name": "python",
   "nbconvert_exporter": "python",
   "pygments_lexer": "ipython3",
   "version": "3.6.5"
  }
 },
 "nbformat": 4,
 "nbformat_minor": 2
}
